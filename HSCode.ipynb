{
  "nbformat": 4,
  "nbformat_minor": 0,
  "metadata": {
    "colab": {
      "provenance": []
    },
    "kernelspec": {
      "name": "python3",
      "display_name": "Python 3"
    },
    "language_info": {
      "name": "python"
    }
  },
  "cells": [
    {
      "cell_type": "markdown",
      "source": [
        "#FML Assignment"
      ],
      "metadata": {
        "id": "aKNTVKytAM5P"
      }
    },
    {
      "cell_type": "markdown",
      "source": [
        "First as was reccomeneded by the brief For those of you using ColabLinks to an external site., we recommend uploading the data to your Google Drive for quick and easy access.)"
      ],
      "metadata": {
        "id": "LZn9Pa9HaPJ7"
      }
    },
    {
      "cell_type": "code",
      "execution_count": 2,
      "metadata": {
        "colab": {
          "base_uri": "https://localhost:8080/"
        },
        "id": "tMQfuu452CMX",
        "outputId": "d8543e86-4abb-4148-8d37-d7e7b8fb18c6"
      },
      "outputs": [
        {
          "output_type": "stream",
          "name": "stdout",
          "text": [
            "Mounted at /content/drive\n"
          ]
        }
      ],
      "source": [
        "from google.colab import drive\n",
        "drive.mount('/content/drive')"
      ]
    },
    {
      "cell_type": "markdown",
      "source": [
        "Next Lets imports the necessary libraries for this assignment"
      ],
      "metadata": {
        "id": "OpJkLgPmAT1z"
      }
    },
    {
      "cell_type": "code",
      "source": [
        "# Data handling\n",
        "import numpy as np\n",
        "# For numerical operations\n",
        "import pandas as pd\n",
        "# For data manipulation and analysis\n",
        "\n",
        "# Google Colab specific\n",
        "from google.colab import files\n",
        "# For file upload in Google Colab\n",
        "\n",
        "# Machine Learning models\n",
        "from sklearn.ensemble import RandomForestClassifier\n",
        "# Random Forest Classifier\n",
        "from sklearn.linear_model import LogisticRegression\n",
        "# Logistic Regression\n",
        "from sklearn.linear_model import Perceptron\n",
        "# Perceptron\n",
        "from sklearn.neural_network import MLPClassifier\n",
        "# Multi-Layer Perceptron\n",
        "from sklearn.svm import SVC as SVM\n",
        "# Support Vector Machine (SVM)\n",
        "\n",
        "# Preprocessing and evaluation\n",
        "from sklearn.decomposition import PCA\n",
        "# Principal Component Analysis for dimensionality reduction\n",
        "from sklearn.impute import SimpleImputer\n",
        "# For handling missing values\n",
        "from sklearn.metrics import accuracy_score, confusion_matrix, ConfusionMatrixDisplay\n",
        "# For evaluation metrics and visualization\n",
        "from sklearn.model_selection import train_test_split\n",
        "# For splitting data into training and test sets\n",
        "from sklearn.model_selection import GridSearchCV\n",
        "# For tuning\n",
        "from sklearn.preprocessing import StandardScaler\n",
        "# For feature scaling\n",
        "\n",
        "# For graphing\n",
        "import matplotlib.pyplot as plt"
      ],
      "metadata": {
        "id": "nOsrygyiag-0"
      },
      "execution_count": 3,
      "outputs": []
    },
    {
      "cell_type": "markdown",
      "source": [
        "Now load the data from my google drive"
      ],
      "metadata": {
        "id": "Bcx2JDs6azdt"
      }
    },
    {
      "cell_type": "code",
      "source": [
        "training2_path = '/content/drive/My Drive/Projects/FML/training2.csv'\n",
        "training1_path = '/content/drive/My Drive/Projects/FML/training1.csv'\n",
        "test_path = '/content/drive/My Drive/Projects/FML/test.csv'\n",
        "sample_valid_predictions_path = '/content/drive/My Drive/Projects/FML/sample_valid_predictions.csv'\n"
      ],
      "metadata": {
        "id": "maAwfq6p3C3z"
      },
      "execution_count": 4,
      "outputs": []
    },
    {
      "cell_type": "markdown",
      "source": [
        "Load data into DataFrame"
      ],
      "metadata": {
        "id": "DAMKO9UHQqPW"
      }
    },
    {
      "cell_type": "code",
      "source": [
        "training2_df = pd.read_csv(training2_path)\n",
        "training1_df = pd.read_csv(training1_path)\n",
        "test_df = pd.read_csv(test_path)\n",
        "sample_valid_predictions_df = pd.read_csv(sample_valid_predictions_path)"
      ],
      "metadata": {
        "id": "1ZmsdI22QppJ"
      },
      "execution_count": 5,
      "outputs": []
    },
    {
      "cell_type": "markdown",
      "source": [
        "Lets go through the data provided"
      ],
      "metadata": {
        "id": "4AQ4qibaNvFT"
      }
    },
    {
      "cell_type": "code",
      "source": [
        "print(training1_df.head())"
      ],
      "metadata": {
        "colab": {
          "base_uri": "https://localhost:8080/"
        },
        "id": "NQOxnZfyNMDC",
        "outputId": "95983772-3f40-495a-929e-79cc18c549d1"
      },
      "execution_count": 6,
      "outputs": [
        {
          "output_type": "stream",
          "name": "stdout",
          "text": [
            "       CNNs   CNNs.1   CNNs.2   CNNs.3    CNNs.4   CNNs.5  CNNs.6  CNNs.7  \\\n",
            "0  0.000000  0.44582  1.00770  0.16655  0.000000  0.08548     0.0     0.0   \n",
            "1  0.000000  0.00000  0.00000  0.26019  1.234300  0.00000     0.0     0.0   \n",
            "2  0.943630  0.00000  0.00000  0.14180  0.070290  0.00000     0.0     0.0   \n",
            "3  0.019543  0.00000  0.00000  0.00000  0.000000  0.00000     0.0     0.0   \n",
            "4  0.000000  0.00000  0.13067  0.00000  0.006485  0.20774     0.0     0.0   \n",
            "\n",
            "    CNNs.8   CNNs.9  ...  GIST.376  GIST.377  GIST.378  GIST.379  GIST.380  \\\n",
            "0  1.22590  1.65000  ...  0.032443  0.037986  0.029998  0.008660  0.034269   \n",
            "1  0.00000  0.25666  ...  0.030867  0.050679  0.021178  0.016048  0.047683   \n",
            "2  0.39032  0.00000  ...  0.010313  0.031747  0.036008  0.004851  0.033030   \n",
            "3  0.00000  0.00000  ...  0.011666  0.015680  0.018619  0.005827  0.032792   \n",
            "4  0.13497  1.82980  ...  0.027669  0.028282  0.004130  0.030918  0.035200   \n",
            "\n",
            "   GIST.381  GIST.382  GIST.383  label  confidence  \n",
            "0  0.010365  0.011738  0.030153    1.0        0.66  \n",
            "1  0.058814  0.014283  0.021649    0.0        1.00  \n",
            "2  0.020830  0.034741  0.050037    0.0        1.00  \n",
            "3  0.030836  0.023793  0.022252    0.0        0.66  \n",
            "4  0.032241  0.009805  0.006492    0.0        0.66  \n",
            "\n",
            "[5 rows x 3458 columns]\n"
          ]
        }
      ]
    },
    {
      "cell_type": "code",
      "source": [
        "print(training2_df.head())"
      ],
      "metadata": {
        "colab": {
          "base_uri": "https://localhost:8080/"
        },
        "id": "j_12FjNbN9Vr",
        "outputId": "b797632f-b8e1-45c3-9b10-2147b0c57622"
      },
      "execution_count": 7,
      "outputs": [
        {
          "output_type": "stream",
          "name": "stdout",
          "text": [
            "   CNNs  CNNs.1   CNNs.2    CNNs.3  CNNs.4   CNNs.5  CNNs.6   CNNs.7   CNNs.8  \\\n",
            "0   0.0     0.0  0.00000       NaN     0.0  0.00000    0.00  0.00000  0.33607   \n",
            "1   0.0     0.0  0.00000  0.000000     0.0      NaN    0.00  0.00000  0.00000   \n",
            "2   0.0     NaN  0.00000  0.080498     NaN  0.00000    0.00      NaN  0.00000   \n",
            "3   0.0     0.0  0.39567  0.000000     0.0  0.00000    0.00      NaN  0.00000   \n",
            "4   NaN     NaN      NaN  0.037334     0.0  0.90437    1.17  0.40552  0.00000   \n",
            "\n",
            "    CNNs.9  ...  GIST.376  GIST.377  GIST.378  GIST.379  GIST.380  GIST.381  \\\n",
            "0  1.58840  ...  0.036742  0.012381       NaN  0.053308  0.026501  0.005391   \n",
            "1  2.25540  ...  0.043143  0.019345  0.016736  0.008209  0.023059       NaN   \n",
            "2  0.00000  ...  0.039189  0.027310  0.038010  0.003747  0.016547       NaN   \n",
            "3  0.00000  ...  0.020592  0.044585  0.032217  0.054913  0.035068  0.021064   \n",
            "4  0.21256  ...  0.003779  0.006411       NaN  0.003991  0.012906  0.008374   \n",
            "\n",
            "   GIST.382  GIST.383  label  confidence  \n",
            "0  0.001272  0.001446    0.0        0.66  \n",
            "1       NaN  0.022575    0.0        0.66  \n",
            "2  0.017964  0.034397    1.0        1.00  \n",
            "3  0.020542  0.033792    1.0        1.00  \n",
            "4  0.002190  0.042025    1.0        0.66  \n",
            "\n",
            "[5 rows x 3458 columns]\n"
          ]
        }
      ]
    },
    {
      "cell_type": "code",
      "source": [
        "print(test_df.head())"
      ],
      "metadata": {
        "colab": {
          "base_uri": "https://localhost:8080/"
        },
        "id": "7DE2kWytOAi9",
        "outputId": "4b634927-dded-4d87-ec69-c8d12cc9e5dc"
      },
      "execution_count": 8,
      "outputs": [
        {
          "output_type": "stream",
          "name": "stdout",
          "text": [
            "      CNNs  CNNs.1  CNNs.2  CNNs.3   CNNs.4  CNNs.5  CNNs.6  CNNs.7   CNNs.8  \\\n",
            "0      NaN  0.2334     0.0     NaN  0.79188  0.0000     NaN  0.0000  0.43900   \n",
            "1  0.45386  0.0000     NaN     NaN  0.00000  1.1775     0.0  0.0000  0.42297   \n",
            "2  0.00000  0.0000     0.0     0.0  0.00000  0.0000     0.0  0.0000  0.00000   \n",
            "3  0.22014     NaN     0.0     NaN  0.88192  1.0936     NaN  0.0000  0.00000   \n",
            "4      NaN  0.0000     NaN     NaN  0.00000  0.0000     0.0  1.7938  0.00000   \n",
            "\n",
            "    CNNs.9  ...  GIST.374  GIST.375  GIST.376  GIST.377  GIST.378  GIST.379  \\\n",
            "0  0.00000  ...  0.009773       NaN  0.011548       NaN  0.017014       NaN   \n",
            "1  2.02510  ...  0.009820  0.026096  0.039678       NaN  0.057236  0.023440   \n",
            "2  0.31986  ...       NaN       NaN  0.026954  0.050490       NaN       NaN   \n",
            "3  0.00000  ...  0.007899  0.023398       NaN  0.022786       NaN  0.007288   \n",
            "4  0.00000  ...  0.012921       NaN  0.019792  0.019010  0.003771  0.003214   \n",
            "\n",
            "   GIST.380  GIST.381  GIST.382  GIST.383  \n",
            "0  0.020395       NaN  0.007909  0.024576  \n",
            "1       NaN  0.014737  0.013860  0.058389  \n",
            "2       NaN  0.021365  0.027606  0.031131  \n",
            "3  0.043885       NaN  0.011621  0.022733  \n",
            "4  0.001543       NaN  0.003199       NaN  \n",
            "\n",
            "[5 rows x 3456 columns]\n"
          ]
        }
      ]
    },
    {
      "cell_type": "code",
      "source": [
        "print(sample_valid_predictions_df.head())"
      ],
      "metadata": {
        "colab": {
          "base_uri": "https://localhost:8080/"
        },
        "id": "fa75PVTuOG_n",
        "outputId": "e079d05e-bc8f-4398-9bd8-2f89dabfad4f"
      },
      "execution_count": 9,
      "outputs": [
        {
          "output_type": "stream",
          "name": "stdout",
          "text": [
            "   prediction\n",
            "0           1\n",
            "1           0\n",
            "2           1\n",
            "3           1\n",
            "4           1\n"
          ]
        }
      ]
    },
    {
      "cell_type": "markdown",
      "source": [
        "Summary statistics and data types"
      ],
      "metadata": {
        "id": "_wLPtF6BPyYg"
      }
    },
    {
      "cell_type": "code",
      "source": [
        "print(training1_df.describe())\n",
        "print(training1_df.info())"
      ],
      "metadata": {
        "colab": {
          "base_uri": "https://localhost:8080/"
        },
        "id": "QZhYlLb-P0YE",
        "outputId": "0c4745a4-667d-4fbc-997e-3ae21077d5f5"
      },
      "execution_count": 10,
      "outputs": [
        {
          "output_type": "stream",
          "name": "stdout",
          "text": [
            "             CNNs      CNNs.1      CNNs.2      CNNs.3      CNNs.4      CNNs.5  \\\n",
            "count  400.000000  400.000000  400.000000  400.000000  400.000000  400.000000   \n",
            "mean     0.147975    0.192618    0.243674    0.225707    0.332345    0.173724   \n",
            "std      0.241522    0.467353    0.462136    0.451655    0.575747    0.412247   \n",
            "min      0.000000    0.000000    0.000000    0.000000    0.000000    0.000000   \n",
            "25%      0.000000    0.000000    0.000000    0.000000    0.000000    0.000000   \n",
            "50%      0.000000    0.000000    0.000000    0.000000    0.000000    0.000000   \n",
            "75%      0.242705    0.054127    0.333905    0.258120    0.486308    0.113345   \n",
            "max      1.438100    3.316100    3.464100    3.176100    2.581900    3.110600   \n",
            "\n",
            "           CNNs.6      CNNs.7      CNNs.8      CNNs.9  ...    GIST.376  \\\n",
            "count  400.000000  400.000000  400.000000  400.000000  ...  400.000000   \n",
            "mean     0.131605    0.172648    0.267928    0.320420  ...    0.026383   \n",
            "std      0.318939    0.450149    0.418593    0.512934  ...    0.015054   \n",
            "min      0.000000    0.000000    0.000000    0.000000  ...    0.000492   \n",
            "25%      0.000000    0.000000    0.000000    0.000000  ...    0.015284   \n",
            "50%      0.000000    0.000000    0.000000    0.000000  ...    0.023882   \n",
            "75%      0.073174    0.000000    0.412650    0.512755  ...    0.034859   \n",
            "max      2.947500    3.483200    2.280500    2.602500  ...    0.095157   \n",
            "\n",
            "         GIST.377    GIST.378    GIST.379    GIST.380    GIST.381    GIST.382  \\\n",
            "count  400.000000  400.000000  400.000000  400.000000  400.000000  400.000000   \n",
            "mean     0.037456    0.024705    0.027647    0.030525    0.025063    0.014833   \n",
            "std      0.018481    0.011751    0.021269    0.014246    0.012779    0.008846   \n",
            "min      0.001893    0.000816    0.001083    0.000507    0.001732    0.000712   \n",
            "25%      0.024260    0.016055    0.012584    0.021262    0.015543    0.008626   \n",
            "50%      0.034408    0.024395    0.023206    0.029724    0.023341    0.012956   \n",
            "75%      0.049736    0.032362    0.037435    0.038944    0.032621    0.019252   \n",
            "max      0.109600    0.082763    0.168760    0.109560    0.090627    0.061381   \n",
            "\n",
            "         GIST.383       label  confidence  \n",
            "count  400.000000  400.000000  400.000000  \n",
            "mean     0.028766    0.467500    0.750100  \n",
            "std      0.013851    0.499567    0.150241  \n",
            "min      0.000613    0.000000    0.660000  \n",
            "25%      0.019089    0.000000    0.660000  \n",
            "50%      0.028812    0.000000    0.660000  \n",
            "75%      0.037008    1.000000    1.000000  \n",
            "max      0.114230    1.000000    1.000000  \n",
            "\n",
            "[8 rows x 3458 columns]\n",
            "<class 'pandas.core.frame.DataFrame'>\n",
            "RangeIndex: 400 entries, 0 to 399\n",
            "Columns: 3458 entries, CNNs to confidence\n",
            "dtypes: float64(3458)\n",
            "memory usage: 10.6 MB\n",
            "None\n"
          ]
        }
      ]
    },
    {
      "cell_type": "code",
      "source": [
        "print(training2_df.describe())\n",
        "print(training2_df.info())"
      ],
      "metadata": {
        "colab": {
          "base_uri": "https://localhost:8080/"
        },
        "id": "xBaKBnCIP4CW",
        "outputId": "8f856c9c-b62b-41ff-92ae-92694a5bb456"
      },
      "execution_count": 11,
      "outputs": [
        {
          "output_type": "stream",
          "name": "stdout",
          "text": [
            "              CNNs       CNNs.1       CNNs.2       CNNs.3       CNNs.4  \\\n",
            "count  2193.000000  2202.000000  2222.000000  2220.000000  2215.000000   \n",
            "mean      0.163193     0.149545     0.209289     0.235386     0.374014   \n",
            "std       0.255546     0.383432     0.398480     0.422127     0.614665   \n",
            "min       0.000000     0.000000     0.000000     0.000000     0.000000   \n",
            "25%       0.000000     0.000000     0.000000     0.000000     0.000000   \n",
            "50%       0.000000     0.000000     0.000000     0.000000     0.000000   \n",
            "75%       0.270750     0.023662     0.273825     0.343488     0.567905   \n",
            "max       1.775800     4.358600     3.318400     3.099000     3.576500   \n",
            "\n",
            "            CNNs.5       CNNs.6       CNNs.7       CNNs.8       CNNs.9  ...  \\\n",
            "count  2196.000000  2212.000000  2205.000000  2207.000000  2203.000000  ...   \n",
            "mean      0.208174     0.119356     0.157800     0.253927     0.306417  ...   \n",
            "std       0.429552     0.283421     0.385871     0.398452     0.506589  ...   \n",
            "min       0.000000     0.000000     0.000000     0.000000     0.000000  ...   \n",
            "25%       0.000000     0.000000     0.000000     0.000000     0.000000  ...   \n",
            "50%       0.000000     0.000000     0.000000     0.000000     0.000000  ...   \n",
            "75%       0.227045     0.050646     0.000000     0.418225     0.473490  ...   \n",
            "max       3.590300     2.810300     2.352000     3.730200     3.443800  ...   \n",
            "\n",
            "          GIST.376     GIST.377     GIST.378     GIST.379     GIST.380  \\\n",
            "count  2167.000000  2214.000000  2186.000000  2231.000000  2176.000000   \n",
            "mean      0.027349     0.035939     0.025045     0.027994     0.029638   \n",
            "std       0.015725     0.018338     0.012023     0.020725     0.013293   \n",
            "min       0.000656     0.001146     0.000586     0.000472     0.000727   \n",
            "25%       0.016730     0.023025     0.016739     0.011869     0.020131   \n",
            "50%       0.025059     0.033635     0.024195     0.024005     0.028451   \n",
            "75%       0.035877     0.046051     0.032515     0.038851     0.038075   \n",
            "max       0.142860     0.143620     0.086573     0.152190     0.093267   \n",
            "\n",
            "          GIST.381     GIST.382     GIST.383        label   confidence  \n",
            "count  2213.000000  2229.000000  2182.000000  2750.000000  2750.000000  \n",
            "mean      0.023428     0.014505     0.029346     0.464364     0.748895  \n",
            "std       0.011661     0.008405     0.013631     0.498819     0.149432  \n",
            "min       0.001901     0.001151     0.000497     0.000000     0.660000  \n",
            "25%       0.014858     0.008341     0.019973     0.000000     0.660000  \n",
            "50%       0.021654     0.013036     0.028722     0.000000     0.660000  \n",
            "75%       0.030066     0.018893     0.037927     1.000000     1.000000  \n",
            "max       0.098673     0.060276     0.088414     1.000000     1.000000  \n",
            "\n",
            "[8 rows x 3458 columns]\n",
            "<class 'pandas.core.frame.DataFrame'>\n",
            "RangeIndex: 2750 entries, 0 to 2749\n",
            "Columns: 3458 entries, CNNs to confidence\n",
            "dtypes: float64(3458)\n",
            "memory usage: 72.6 MB\n",
            "None\n"
          ]
        }
      ]
    },
    {
      "cell_type": "markdown",
      "source": [
        "Checking for null values in datasets (NaNs)"
      ],
      "metadata": {
        "id": "V4DmereiQE6Z"
      }
    },
    {
      "cell_type": "code",
      "source": [
        "print(training2_df.isnull().sum())"
      ],
      "metadata": {
        "colab": {
          "base_uri": "https://localhost:8080/"
        },
        "id": "YZRCKQ28QFpu",
        "outputId": "4bf47ec6-d5b5-4479-ce7b-7800e966c16c"
      },
      "execution_count": 12,
      "outputs": [
        {
          "output_type": "stream",
          "name": "stdout",
          "text": [
            "CNNs          557\n",
            "CNNs.1        548\n",
            "CNNs.2        528\n",
            "CNNs.3        530\n",
            "CNNs.4        535\n",
            "             ... \n",
            "GIST.381      537\n",
            "GIST.382      521\n",
            "GIST.383      568\n",
            "label           0\n",
            "confidence      0\n",
            "Length: 3458, dtype: int64\n"
          ]
        }
      ]
    },
    {
      "cell_type": "markdown",
      "source": [
        "Replace NaNs in the Training2 & test\n",
        "\n"
      ],
      "metadata": {
        "id": "lU1Jyqa-QQky"
      }
    },
    {
      "cell_type": "code",
      "source": [
        "imputer = SimpleImputer(strategy='mean')\n",
        "# imputer = SimpleImputer(strategy='median')\n",
        "training2_df[:] = imputer.fit_transform(training2_df[:])\n",
        "test_df[:] = imputer.fit_transform(test_df[:])"
      ],
      "metadata": {
        "id": "2phTtaEQQReX"
      },
      "execution_count": 13,
      "outputs": []
    },
    {
      "cell_type": "markdown",
      "source": [
        "DataFrames into arrays"
      ],
      "metadata": {
        "id": "Byb1RGvtRPUt"
      }
    },
    {
      "cell_type": "code",
      "source": [
        "training1 = training1_df.values\n",
        "training2 = training2_df.values\n",
        "test = test_df.values\n",
        "sample_valid_predictions = sample_valid_predictions_df.values"
      ],
      "metadata": {
        "id": "7lgr_y6NRSss"
      },
      "execution_count": 14,
      "outputs": []
    },
    {
      "cell_type": "markdown",
      "source": [
        "Output the shapes"
      ],
      "metadata": {
        "id": "_IDhuNzJRi_-"
      }
    },
    {
      "cell_type": "code",
      "source": [
        "print(f\"training1 shape: {training1.shape}\")"
      ],
      "metadata": {
        "colab": {
          "base_uri": "https://localhost:8080/"
        },
        "id": "9NYMvhQDQDz5",
        "outputId": "ec4c8f2d-aac0-417d-8b29-7fd69847859c"
      },
      "execution_count": 15,
      "outputs": [
        {
          "output_type": "stream",
          "name": "stdout",
          "text": [
            "training1 shape: (400, 3458)\n"
          ]
        }
      ]
    },
    {
      "cell_type": "code",
      "source": [
        "print(f\"training2 shape: {training2.shape}\")"
      ],
      "metadata": {
        "colab": {
          "base_uri": "https://localhost:8080/"
        },
        "id": "0e9nAX_ORhE1",
        "outputId": "63bb2f62-ff7c-4b96-d6e2-0713aa215678"
      },
      "execution_count": 16,
      "outputs": [
        {
          "output_type": "stream",
          "name": "stdout",
          "text": [
            "training2 shape: (2750, 3458)\n"
          ]
        }
      ]
    },
    {
      "cell_type": "code",
      "source": [
        "print(f\"test shape: {test.shape}\")"
      ],
      "metadata": {
        "colab": {
          "base_uri": "https://localhost:8080/"
        },
        "id": "tHKHAKaQRnb6",
        "outputId": "d3ff8ed2-b2a9-4173-9203-de96837afdb2"
      },
      "execution_count": 17,
      "outputs": [
        {
          "output_type": "stream",
          "name": "stdout",
          "text": [
            "test shape: (1000, 3456)\n"
          ]
        }
      ]
    },
    {
      "cell_type": "code",
      "source": [
        "print(f\"sample shape: {sample_valid_predictions.shape}\")"
      ],
      "metadata": {
        "colab": {
          "base_uri": "https://localhost:8080/"
        },
        "id": "nDtM2S6CRotr",
        "outputId": "8037f3ec-d42c-400e-aeb5-7b9d204de1db"
      },
      "execution_count": 18,
      "outputs": [
        {
          "output_type": "stream",
          "name": "stdout",
          "text": [
            "sample shape: (1000, 1)\n"
          ]
        }
      ]
    },
    {
      "cell_type": "markdown",
      "source": [
        "Divide data, the data you are given for each photo consists of 3456 features. 3072 of these were extracted from a deep Convolutional Neural Network (CNN) [1], and the remaining 384 are gist features"
      ],
      "metadata": {
        "id": "uLPoQIHEA6ST"
      }
    },
    {
      "cell_type": "code",
      "source": [
        "# First CNN\n",
        "training1_CNN = training1[:, 0:3072]\n",
        "training2_CNN = training2[:, 0:3072]"
      ],
      "metadata": {
        "id": "FRHMCFHrTVdB"
      },
      "execution_count": 19,
      "outputs": []
    },
    {
      "cell_type": "code",
      "source": [
        "# Second GIST\n",
        "training1_GIST = training1[:,3072:3456]\n",
        "training2_GIST = training2[:,3072:3456]"
      ],
      "metadata": {
        "id": "hHQaafiQTyMU"
      },
      "execution_count": 20,
      "outputs": []
    },
    {
      "cell_type": "code",
      "source": [
        "# Both features\n",
        "training1_BOTH = training1[:, 0:3456]\n",
        "training2_BOTH = training2[:, 0:3456]"
      ],
      "metadata": {
        "id": "mJr6LY-lUEtt"
      },
      "execution_count": 21,
      "outputs": []
    },
    {
      "cell_type": "markdown",
      "source": [
        "We'll also divide up classes & cofidence"
      ],
      "metadata": {
        "id": "dpbVUneVUpFD"
      }
    },
    {
      "cell_type": "code",
      "source": [
        "# Classes\n",
        "training1_Class = training1[:,3456:3457]\n",
        "training2_Class = training2[:,3456:3457]\n",
        "# Confidence\n",
        "training1_Confidence = training1[:,3457:3458]\n",
        "training2_Confidence = training2[:,3457:3458]"
      ],
      "metadata": {
        "id": "FQdwbSqvU4bP"
      },
      "execution_count": 22,
      "outputs": []
    },
    {
      "cell_type": "markdown",
      "source": [
        "Now to join the data up through concatenation."
      ],
      "metadata": {
        "id": "L2G1RxidVJIc"
      }
    },
    {
      "cell_type": "code",
      "source": [
        "training_CNN = np.concatenate((training1_CNN, training2_CNN))\n",
        "training_GIST = np.concatenate((training1_GIST, training2_GIST))\n",
        "training_BOTH = np.concatenate((training1_BOTH, training2_BOTH))\n",
        "training_Class = np.concatenate((training1_Class, training2_Class))\n",
        "training_Confidence = np.concatenate((training1_Confidence, training2_Confidence))"
      ],
      "metadata": {
        "id": "hYuComhH-K_H"
      },
      "execution_count": 23,
      "outputs": []
    },
    {
      "cell_type": "markdown",
      "source": [
        "Again Output shapes"
      ],
      "metadata": {
        "id": "N5Xq_ocBWci4"
      }
    },
    {
      "cell_type": "code",
      "source": [
        "print(\"CNN shape:\",training_CNN.shape)"
      ],
      "metadata": {
        "colab": {
          "base_uri": "https://localhost:8080/"
        },
        "id": "1YMK6tHpWf9p",
        "outputId": "e3e4a5b9-23ec-433b-93d9-4cdec9678bfb"
      },
      "execution_count": 24,
      "outputs": [
        {
          "output_type": "stream",
          "name": "stdout",
          "text": [
            "CNN shape: (3150, 3072)\n"
          ]
        }
      ]
    },
    {
      "cell_type": "code",
      "source": [
        "print(\"GIST shape:\",training_GIST.shape)"
      ],
      "metadata": {
        "colab": {
          "base_uri": "https://localhost:8080/"
        },
        "id": "SBce8Sk3Whcu",
        "outputId": "f5ce5207-794d-4b1c-a9df-901110746942"
      },
      "execution_count": 25,
      "outputs": [
        {
          "output_type": "stream",
          "name": "stdout",
          "text": [
            "GIST shape: (3150, 384)\n"
          ]
        }
      ]
    },
    {
      "cell_type": "code",
      "source": [
        "print(\"BOTH features shape:\",training_BOTH.shape)"
      ],
      "metadata": {
        "colab": {
          "base_uri": "https://localhost:8080/"
        },
        "id": "C7Fs-uQIWjNq",
        "outputId": "ecc28b90-11bf-47a8-d569-857d2bed0d75"
      },
      "execution_count": 26,
      "outputs": [
        {
          "output_type": "stream",
          "name": "stdout",
          "text": [
            "BOTH features shape: (3150, 3456)\n"
          ]
        }
      ]
    },
    {
      "cell_type": "code",
      "source": [
        "print(\"Class shape:\",training_Class.shape)"
      ],
      "metadata": {
        "colab": {
          "base_uri": "https://localhost:8080/"
        },
        "id": "eQoM6c0oWky2",
        "outputId": "93120ee7-91ad-446a-9a15-34e176c5c926"
      },
      "execution_count": 27,
      "outputs": [
        {
          "output_type": "stream",
          "name": "stdout",
          "text": [
            "Class shape: (3150, 1)\n"
          ]
        }
      ]
    },
    {
      "cell_type": "code",
      "source": [
        "print(\"Confidence shape:\",training_Confidence.shape)"
      ],
      "metadata": {
        "colab": {
          "base_uri": "https://localhost:8080/"
        },
        "id": "UABYwm0VWmRP",
        "outputId": "c6f8b82e-0f2e-4695-9e6b-0410dda8256b"
      },
      "execution_count": 28,
      "outputs": [
        {
          "output_type": "stream",
          "name": "stdout",
          "text": [
            "Confidence shape: (3150, 1)\n"
          ]
        }
      ]
    },
    {
      "cell_type": "markdown",
      "source": [
        "The class label could be considered certain, and a confidence of 1 was written down. If they didn't all agree, then the classification decided on by the majority was assigned, but with a confidence of only 0.66.This wont work for us so we will filter them down."
      ],
      "metadata": {
        "id": "M5rXpFO3tqWy"
      }
    },
    {
      "cell_type": "code",
      "source": [
        "# A set Threshold to filter\n",
        "Threshold = 0.99\n",
        "# A mask to identify the rows where the confidence value is greater than or equal to the threshold.\n",
        "Mask = training_Confidence >= Threshold\n",
        "Mask = Mask.squeeze()"
      ],
      "metadata": {
        "id": "e1IsFBqItpdN"
      },
      "execution_count": 29,
      "outputs": []
    },
    {
      "cell_type": "markdown",
      "source": [
        "Now to ensure that the models will only use the most reliable points"
      ],
      "metadata": {
        "id": "WzQzpeXGZzsi"
      }
    },
    {
      "cell_type": "code",
      "source": [
        "Masked_CNN = training_CNN[Mask]\n",
        "Masked_Class = training_Class[Mask]"
      ],
      "metadata": {
        "id": "tr79GL1zZ7Mp"
      },
      "execution_count": 30,
      "outputs": []
    },
    {
      "cell_type": "markdown",
      "source": [
        "Output the shapes"
      ],
      "metadata": {
        "id": "s8KprDFbaTLB"
      }
    },
    {
      "cell_type": "code",
      "source": [
        "print(Masked_CNN.shape[0])"
      ],
      "metadata": {
        "colab": {
          "base_uri": "https://localhost:8080/"
        },
        "id": "7HQqfbVYaUzt",
        "outputId": "49cb2152-8419-4dc8-a6e9-f95e53a629b4"
      },
      "execution_count": 31,
      "outputs": [
        {
          "output_type": "stream",
          "name": "stdout",
          "text": [
            "825\n"
          ]
        }
      ]
    },
    {
      "cell_type": "code",
      "source": [
        "print(Masked_Class.shape[0])"
      ],
      "metadata": {
        "colab": {
          "base_uri": "https://localhost:8080/"
        },
        "id": "UAn_iIAwaWjJ",
        "outputId": "9538ff59-f68b-4e55-a937-3e58da4e080d"
      },
      "execution_count": 32,
      "outputs": [
        {
          "output_type": "stream",
          "name": "stdout",
          "text": [
            "825\n"
          ]
        }
      ]
    },
    {
      "cell_type": "markdown",
      "source": [
        "Now to split the masked data into a training and validation set"
      ],
      "metadata": {
        "id": "jrTfcWn5acpB"
      }
    },
    {
      "cell_type": "code",
      "source": [
        "# Using sklearn train test split\n",
        "X_train, X_val, Y_train, Y_val = train_test_split(Masked_CNN, Masked_Class, test_size=0.2, random_state=50)"
      ],
      "metadata": {
        "id": "UkjjZPlNCfmH"
      },
      "execution_count": 33,
      "outputs": []
    },
    {
      "cell_type": "markdown",
      "source": [
        "To ensure features contibute equally the sets will be standardised"
      ],
      "metadata": {
        "id": "QGjL6efoE0US"
      }
    },
    {
      "cell_type": "code",
      "source": [
        "# Using sklearn StandardScaler\n",
        "Scaler = StandardScaler()\n",
        "Scaler.fit(X_train)"
      ],
      "metadata": {
        "id": "cjK2I9Z-CafN",
        "colab": {
          "base_uri": "https://localhost:8080/",
          "height": 74
        },
        "outputId": "42cb2510-f645-45ec-e03a-ce231214d2c4"
      },
      "execution_count": 34,
      "outputs": [
        {
          "output_type": "execute_result",
          "data": {
            "text/plain": [
              "StandardScaler()"
            ],
            "text/html": [
              "<style>#sk-container-id-1 {color: black;background-color: white;}#sk-container-id-1 pre{padding: 0;}#sk-container-id-1 div.sk-toggleable {background-color: white;}#sk-container-id-1 label.sk-toggleable__label {cursor: pointer;display: block;width: 100%;margin-bottom: 0;padding: 0.3em;box-sizing: border-box;text-align: center;}#sk-container-id-1 label.sk-toggleable__label-arrow:before {content: \"▸\";float: left;margin-right: 0.25em;color: #696969;}#sk-container-id-1 label.sk-toggleable__label-arrow:hover:before {color: black;}#sk-container-id-1 div.sk-estimator:hover label.sk-toggleable__label-arrow:before {color: black;}#sk-container-id-1 div.sk-toggleable__content {max-height: 0;max-width: 0;overflow: hidden;text-align: left;background-color: #f0f8ff;}#sk-container-id-1 div.sk-toggleable__content pre {margin: 0.2em;color: black;border-radius: 0.25em;background-color: #f0f8ff;}#sk-container-id-1 input.sk-toggleable__control:checked~div.sk-toggleable__content {max-height: 200px;max-width: 100%;overflow: auto;}#sk-container-id-1 input.sk-toggleable__control:checked~label.sk-toggleable__label-arrow:before {content: \"▾\";}#sk-container-id-1 div.sk-estimator input.sk-toggleable__control:checked~label.sk-toggleable__label {background-color: #d4ebff;}#sk-container-id-1 div.sk-label input.sk-toggleable__control:checked~label.sk-toggleable__label {background-color: #d4ebff;}#sk-container-id-1 input.sk-hidden--visually {border: 0;clip: rect(1px 1px 1px 1px);clip: rect(1px, 1px, 1px, 1px);height: 1px;margin: -1px;overflow: hidden;padding: 0;position: absolute;width: 1px;}#sk-container-id-1 div.sk-estimator {font-family: monospace;background-color: #f0f8ff;border: 1px dotted black;border-radius: 0.25em;box-sizing: border-box;margin-bottom: 0.5em;}#sk-container-id-1 div.sk-estimator:hover {background-color: #d4ebff;}#sk-container-id-1 div.sk-parallel-item::after {content: \"\";width: 100%;border-bottom: 1px solid gray;flex-grow: 1;}#sk-container-id-1 div.sk-label:hover label.sk-toggleable__label {background-color: #d4ebff;}#sk-container-id-1 div.sk-serial::before {content: \"\";position: absolute;border-left: 1px solid gray;box-sizing: border-box;top: 0;bottom: 0;left: 50%;z-index: 0;}#sk-container-id-1 div.sk-serial {display: flex;flex-direction: column;align-items: center;background-color: white;padding-right: 0.2em;padding-left: 0.2em;position: relative;}#sk-container-id-1 div.sk-item {position: relative;z-index: 1;}#sk-container-id-1 div.sk-parallel {display: flex;align-items: stretch;justify-content: center;background-color: white;position: relative;}#sk-container-id-1 div.sk-item::before, #sk-container-id-1 div.sk-parallel-item::before {content: \"\";position: absolute;border-left: 1px solid gray;box-sizing: border-box;top: 0;bottom: 0;left: 50%;z-index: -1;}#sk-container-id-1 div.sk-parallel-item {display: flex;flex-direction: column;z-index: 1;position: relative;background-color: white;}#sk-container-id-1 div.sk-parallel-item:first-child::after {align-self: flex-end;width: 50%;}#sk-container-id-1 div.sk-parallel-item:last-child::after {align-self: flex-start;width: 50%;}#sk-container-id-1 div.sk-parallel-item:only-child::after {width: 0;}#sk-container-id-1 div.sk-dashed-wrapped {border: 1px dashed gray;margin: 0 0.4em 0.5em 0.4em;box-sizing: border-box;padding-bottom: 0.4em;background-color: white;}#sk-container-id-1 div.sk-label label {font-family: monospace;font-weight: bold;display: inline-block;line-height: 1.2em;}#sk-container-id-1 div.sk-label-container {text-align: center;}#sk-container-id-1 div.sk-container {/* jupyter's `normalize.less` sets `[hidden] { display: none; }` but bootstrap.min.css set `[hidden] { display: none !important; }` so we also need the `!important` here to be able to override the default hidden behavior on the sphinx rendered scikit-learn.org. See: https://github.com/scikit-learn/scikit-learn/issues/21755 */display: inline-block !important;position: relative;}#sk-container-id-1 div.sk-text-repr-fallback {display: none;}</style><div id=\"sk-container-id-1\" class=\"sk-top-container\"><div class=\"sk-text-repr-fallback\"><pre>StandardScaler()</pre><b>In a Jupyter environment, please rerun this cell to show the HTML representation or trust the notebook. <br />On GitHub, the HTML representation is unable to render, please try loading this page with nbviewer.org.</b></div><div class=\"sk-container\" hidden><div class=\"sk-item\"><div class=\"sk-estimator sk-toggleable\"><input class=\"sk-toggleable__control sk-hidden--visually\" id=\"sk-estimator-id-1\" type=\"checkbox\" checked><label for=\"sk-estimator-id-1\" class=\"sk-toggleable__label sk-toggleable__label-arrow\">StandardScaler</label><div class=\"sk-toggleable__content\"><pre>StandardScaler()</pre></div></div></div></div></div>"
            ]
          },
          "metadata": {},
          "execution_count": 34
        }
      ]
    },
    {
      "cell_type": "code",
      "source": [
        "X_train = Scaler.transform(X_train)\n",
        "X_val = Scaler.transform(X_val)"
      ],
      "metadata": {
        "id": "8EVVR4Eudhu6"
      },
      "execution_count": 35,
      "outputs": []
    },
    {
      "cell_type": "markdown",
      "source": [
        "In order to improve peformance we'll reduce the number of features."
      ],
      "metadata": {
        "id": "HshJyGgPFNTM"
      }
    },
    {
      "cell_type": "code",
      "source": [
        "# Using Principal Component Analysis\n",
        "pca_model = PCA(n_components=0.8, random_state=50)\n",
        "X_train = pca_model.fit_transform(X_train)\n",
        "X_val = pca_model.transform(X_val)"
      ],
      "metadata": {
        "id": "JiRq-dbPFK2g"
      },
      "execution_count": 36,
      "outputs": []
    },
    {
      "cell_type": "markdown",
      "source": [
        "Now for the testing data\n"
      ],
      "metadata": {
        "id": "Vj6EPwxk5hJC"
      }
    },
    {
      "cell_type": "code",
      "source": [
        "testing_predict = test[:, 0:3072]\n",
        "testing_predict = Scaler.transform(testing_predict)\n",
        "testing_predict = pca_model.transform(testing_predict)"
      ],
      "metadata": {
        "id": "pv92wmbX5kCP"
      },
      "execution_count": 37,
      "outputs": []
    },
    {
      "cell_type": "markdown",
      "source": [
        "#Training the different models"
      ],
      "metadata": {
        "id": "HfHdP28DGG-S"
      }
    },
    {
      "cell_type": "markdown",
      "source": [
        "You may make use of any classifier, such as: single-layer perceptron, multi-layer perceptron, SVM, random forest, logistic regression, etc. You are not required to code classifiers from scratch"
      ],
      "metadata": {
        "id": "waZtThG-iY8c"
      }
    },
    {
      "cell_type": "markdown",
      "source": [
        "Perceptron"
      ],
      "metadata": {
        "id": "pI9P0lv_xvkH"
      }
    },
    {
      "cell_type": "code",
      "source": [
        "# Initialize the Perceptron model\n",
        "perceptron_model = Perceptron()\n",
        "\n",
        "# Train the Perceptron model on the training data\n",
        "perceptron_model.fit(X_train, Y_train)\n",
        "\n",
        "# Make predictions on the validation data\n",
        "Y_val_predictions = perceptron_model.predict(X_val)\n",
        "\n",
        "# Calculate the accuracy of the model on the validation data\n",
        "val_accuracy = accuracy_score(Y_val, Y_val_predictions)\n",
        "\n",
        "# Compute the confusion matrix\n",
        "confusion_mat = confusion_matrix(Y_val, Y_val_predictions, labels=perceptron_model.classes_)\n",
        "\n",
        "# Display the results\n",
        "print(f\"Validation Accuracy: {val_accuracy}\")\n",
        "print(f\"Iterations: {perceptron_model.n_iter_}\")\n",
        "\n",
        "# Visualize the confusion matrix\n",
        "confusion_matrix_display = ConfusionMatrixDisplay(confusion_matrix=confusion_mat, display_labels=perceptron_model.classes_)\n",
        "confusion_matrix_display.plot()\n",
        "\n",
        "# Store the accuracy for later use\n",
        "perceptron_accuracy = val_accuracy"
      ],
      "metadata": {
        "id": "FTkWHDCixvCD",
        "colab": {
          "base_uri": "https://localhost:8080/",
          "height": 541
        },
        "outputId": "2b10964a-770c-46bd-b7f1-f4db51c39bb4"
      },
      "execution_count": 38,
      "outputs": [
        {
          "output_type": "stream",
          "name": "stderr",
          "text": [
            "/usr/local/lib/python3.10/dist-packages/sklearn/utils/validation.py:1143: DataConversionWarning: A column-vector y was passed when a 1d array was expected. Please change the shape of y to (n_samples, ), for example using ravel().\n",
            "  y = column_or_1d(y, warn=True)\n"
          ]
        },
        {
          "output_type": "stream",
          "name": "stdout",
          "text": [
            "Validation Accuracy: 0.7696969696969697\n",
            "Iterations: 22\n"
          ]
        },
        {
          "output_type": "display_data",
          "data": {
            "text/plain": [
              "<Figure size 640x480 with 2 Axes>"
            ],
            "image/png": "[encoded data removed]"
          },
          "metadata": {}
        }
      ]
    },
    {
      "cell_type": "markdown",
      "source": [
        "Multilayer Perceptron"
      ],
      "metadata": {
        "id": "_MrP-xRFaut9"
      }
    },
    {
      "cell_type": "code",
      "source": [
        "# from sklearn.model_selection import GridSearchCV\n",
        "\n",
        "# # Define the parameter grid\n",
        "# param_grid = {\n",
        "#     'activation': ['relu', 'tanh'],\n",
        "#     'solver': ['sgd', 'adam'],\n",
        "#     'alpha': [0.0001, 0.001, 0.01, 0.1],\n",
        "#     'learning_rate_init': [0.001, 0.01, 0.1],\n",
        "#     'momentum': [0.6, 0.8, 0.9],\n",
        "#     'early_stopping': [True],\n",
        "#     'validation_fraction': [0.1, 0.2, 0.3]\n",
        "# }\n",
        "\n",
        "# # Initialize the MLPClassifier\n",
        "# mlp = MLPClassifier()\n",
        "\n",
        "# # Initialize GridSearchCV with 5-fold cross-validation\n",
        "# grid_search = GridSearchCV(estimator=mlp, param_grid=param_grid, cv=5, n_jobs=-1, verbose=2)\n",
        "\n",
        "# # Fit GridSearchCV on the training data\n",
        "# grid_search.fit(X_train, Y_train.ravel())\n",
        "\n",
        "# # Get the best parameters\n",
        "# best_params = grid_search.best_params_\n",
        "# print(\"Best parameters found: \", best_params)\n",
        "\n",
        "# # Train the MLPClassifier with the best parameters\n",
        "# best_mlp_classifier = grid_search.best_estimator_\n",
        "\n",
        "# # Make predictions on the validation data\n",
        "# Y_val_predictions = best_mlp_classifier.predict(X_val)\n",
        "\n",
        "# # Calculate the accuracy of the model on the validation data\n",
        "# val_accuracy = accuracy_score(Y_val, Y_val_predictions)\n",
        "# print(f\"Validation Accuracy: {val_accuracy}\")\n",
        "\n",
        "# # Compute the confusion matrix\n",
        "# confusion_mat = confusion_matrix(Y_val, Y_val_predictions, labels=best_mlp_classifier.classes_)\n",
        "\n",
        "# # Visualize the confusion matrix\n",
        "# confusion_matrix_display = ConfusionMatrixDisplay(confusion_matrix=confusion_mat, display_labels=best_mlp_classifier.classes_)\n",
        "# confusion_matrix_display.plot()\n",
        "\n",
        "# Initialize the Multilayer Perceptron classifier\n",
        "# mlp_classifier = MLPClassifier(\n",
        "#     activation=\"relu\",\n",
        "#     solver=\"sgd\",\n",
        "#     alpha=0.1,\n",
        "#     learning_rate_init=0.1,\n",
        "#     momentum=0.8,\n",
        "#     early_stopping=True,\n",
        "#     validation_fraction=0.6\n",
        "# )\n",
        "mlp_classifier = MLPClassifier(\n",
        "    activation=\"relu\",\n",
        "    solver=\"sgd\",\n",
        "    alpha=0.01,\n",
        "    learning_rate_init=0.01,\n",
        "    momentum=0.6,\n",
        "    early_stopping=True,\n",
        "    validation_fraction=0.1\n",
        ")\n",
        "\n",
        "# Train the Multilayer Perceptron classifier on the training data\n",
        "mlp_classifier.fit(X_train, Y_train.ravel())\n",
        "\n",
        "# Make predictions on the validation data\n",
        "Y_val_predictions = mlp_classifier.predict(X_val)\n",
        "\n",
        "# Calculate the accuracy of the model on the validation data\n",
        "val_accuracy = accuracy_score(Y_val, Y_val_predictions)\n",
        "\n",
        "# Compute the confusion matrix\n",
        "confusion_mat = confusion_matrix(Y_val, Y_val_predictions, labels=mlp_classifier.classes_)\n",
        "\n",
        "# Display the results\n",
        "print(f\"Validation Accuracy: {val_accuracy}\")\n",
        "print(f\"Iterations: {mlp_classifier.n_iter_}\")\n",
        "\n",
        "# Visualize the confusion matrix\n",
        "confusion_matrix_display = ConfusionMatrixDisplay(confusion_matrix=confusion_mat, display_labels=mlp_classifier.classes_)\n",
        "confusion_matrix_display.plot()\n",
        "\n",
        "# Store the accuracy for later use\n",
        "mlp_accuracy = val_accuracy"
      ],
      "metadata": {
        "id": "SIEQ9zt3RBTY",
        "colab": {
          "base_uri": "https://localhost:8080/",
          "height": 485
        },
        "outputId": "d6a76e96-7617-4f90-f216-bf485fa5f8f3"
      },
      "execution_count": 39,
      "outputs": [
        {
          "output_type": "stream",
          "name": "stdout",
          "text": [
            "Validation Accuracy: 0.7818181818181819\n",
            "Iterations: 17\n"
          ]
        },
        {
          "output_type": "display_data",
          "data": {
            "text/plain": [
              "<Figure size 640x480 with 2 Axes>"
            ],
            "image/png": "[encoded data removed]"
          },
          "metadata": {}
        }
      ]
    },
    {
      "cell_type": "markdown",
      "source": [
        "SVM"
      ],
      "metadata": {
        "id": "uQn5LyqAS13n"
      }
    },
    {
      "cell_type": "code",
      "source": [
        "# Initialize the SVM classifier\n",
        "svm_classifier = SVM(kernel='linear', C=1, random_state=50)\n",
        "\n",
        "# Train the SVM classifier on the training data\n",
        "svm_classifier.fit(X_train, Y_train.ravel())\n",
        "\n",
        "# Make predictions on the validation data\n",
        "Y_val_predictions = svm_classifier.predict(X_val)\n",
        "\n",
        "# Calculate the accuracy of the model on the validation data\n",
        "val_accuracy = accuracy_score(Y_val, Y_val_predictions)\n",
        "\n",
        "# Compute the confusion matrix\n",
        "confusion_mat = confusion_matrix(Y_val, Y_val_predictions, labels=svm_classifier.classes_)\n",
        "\n",
        "# Display the results\n",
        "print(f\"Validation Accuracy: {val_accuracy}\")\n",
        "\n",
        "# Visualize the confusion matrix\n",
        "confusion_matrix_display = ConfusionMatrixDisplay(confusion_matrix=confusion_mat, display_labels=svm_classifier.classes_)\n",
        "confusion_matrix_display.plot()\n",
        "\n",
        "# Store the accuracy for later use\n",
        "svm_accuracy = val_accuracy"
      ],
      "metadata": {
        "colab": {
          "base_uri": "https://localhost:8080/",
          "height": 467
        },
        "id": "xDL0j1diS5ko",
        "outputId": "66549628-43e9-464b-f2dc-d8b193296f79"
      },
      "execution_count": 50,
      "outputs": [
        {
          "output_type": "stream",
          "name": "stdout",
          "text": [
            "Validation Accuracy: 0.7272727272727273\n"
          ]
        },
        {
          "output_type": "display_data",
          "data": {
            "text/plain": [
              "<Figure size 640x480 with 2 Axes>"
            ],
            "image/png": "[encoded data removed]"
          },
          "metadata": {}
        }
      ]
    },
    {
      "cell_type": "markdown",
      "source": [
        "Random forest"
      ],
      "metadata": {
        "id": "yTRDP4LwS6CD"
      }
    },
    {
      "cell_type": "code",
      "source": [
        "# Initialize the Random Forest Classifier with specified hyperparameters\n",
        "random_forest_model = RandomForestClassifier(\n",
        "    n_estimators=500,\n",
        "    criterion=\"log_loss\",\n",
        "    max_depth=5\n",
        ")\n",
        "\n",
        "# Train the Random Forest Classifier on the training data\n",
        "random_forest_model.fit(X_train, Y_train.ravel())\n",
        "\n",
        "# Make predictions on the validation data\n",
        "Y_val_predictions = random_forest_model.predict(X_val)\n",
        "\n",
        "# Calculate the accuracy of the model on the validation data\n",
        "val_accuracy = accuracy_score(Y_val.ravel(), Y_val_predictions)\n",
        "\n",
        "# Compute the confusion matrix\n",
        "confusion_mat = confusion_matrix(Y_val, Y_val_predictions, labels=random_forest_model.classes_)\n",
        "\n",
        "# Display the results\n",
        "print(f\"Validation Accuracy: {val_accuracy}\")\n",
        "\n",
        "# Visualize the confusion matrix\n",
        "confusion_matrix_display = ConfusionMatrixDisplay(confusion_matrix=confusion_mat, display_labels=random_forest_model.classes_)\n",
        "confusion_matrix_display.plot()\n",
        "\n",
        "# Store the accuracy for later use\n",
        "RF_accuracy = val_accuracy"
      ],
      "metadata": {
        "id": "D_nNCqhwS-GC",
        "colab": {
          "base_uri": "https://localhost:8080/",
          "height": 467
        },
        "outputId": "24d09b06-c3f3-4555-cd4c-6a5382d49d9d"
      },
      "execution_count": 41,
      "outputs": [
        {
          "output_type": "stream",
          "name": "stdout",
          "text": [
            "Validation Accuracy: 0.7333333333333333\n"
          ]
        },
        {
          "output_type": "display_data",
          "data": {
            "text/plain": [
              "<Figure size 640x480 with 2 Axes>"
            ],
            "image/png": "[encoded data removed]"
          },
          "metadata": {}
        }
      ]
    },
    {
      "cell_type": "markdown",
      "source": [
        "2.6 Training with Logistic Regression"
      ],
      "metadata": {
        "id": "vsbo5ChRecB8"
      }
    },
    {
      "cell_type": "code",
      "source": [
        "# Initialize the Logistic Regression model\n",
        "logistic_regression_model = LogisticRegression(\n",
        "    solver=\"liblinear\",\n",
        "    penalty=\"l2\",\n",
        "    C=0.02,\n",
        "    max_iter=400\n",
        ")\n",
        "\n",
        "# Train the Logistic Regression model on the training data\n",
        "logistic_regression_model.fit(X_train, Y_train.ravel())\n",
        "\n",
        "# Make predictions on the validation data\n",
        "Y_val_predictions = logistic_regression_model.predict(X_val)\n",
        "\n",
        "# Calculate the accuracy of the model on the validation data\n",
        "val_accuracy = accuracy_score(Y_val.ravel(), Y_val_predictions)\n",
        "\n",
        "# Compute the confusion matrix\n",
        "confusion_mat = confusion_matrix(Y_val, Y_val_predictions, labels=logistic_regression_model.classes_)\n",
        "\n",
        "# Display the results\n",
        "print(f\"Validation Accuracy: {val_accuracy}\")\n",
        "print(f\"Iterations: {logistic_regression_model.n_iter_[0]}\")\n",
        "\n",
        "# Visualize the confusion matrix\n",
        "confusion_matrix_display = ConfusionMatrixDisplay(confusion_matrix=confusion_mat, display_labels=logistic_regression_model.classes_)\n",
        "confusion_matrix_display.plot()\n",
        "\n",
        "# Store the accuracy for later use\n",
        "LR_accuracy = val_accuracy"
      ],
      "metadata": {
        "id": "2YV1YS6JeiIu",
        "colab": {
          "base_uri": "https://localhost:8080/",
          "height": 485
        },
        "outputId": "be801974-411f-4c3e-8679-f1ad25832f16"
      },
      "execution_count": 42,
      "outputs": [
        {
          "output_type": "stream",
          "name": "stdout",
          "text": [
            "Validation Accuracy: 0.7818181818181819\n",
            "Iterations: 6\n"
          ]
        },
        {
          "output_type": "display_data",
          "data": {
            "text/plain": [
              "<Figure size 640x480 with 2 Axes>"
            ],
            "image/png": "[encoded data removed]"
          },
          "metadata": {}
        }
      ]
    },
    {
      "cell_type": "markdown",
      "source": [
        "# Hyper-Parameter tuning"
      ],
      "metadata": {
        "id": "070jmMKaf_bL"
      }
    },
    {
      "cell_type": "markdown",
      "source": [
        "Random Forest"
      ],
      "metadata": {
        "id": "Vcrwv6nCgGDa"
      }
    },
    {
      "cell_type": "code",
      "source": [
        "# # Initialize the Random Forest classifier\n",
        "# rf = RandomForestClassifier(random_state=42)\n",
        "\n",
        "# # Initialize GridSearchCV\n",
        "# grid_search = GridSearchCV(estimator=rf, param_grid=param_grid, cv=5, n_jobs=-1, verbose=2)\n",
        "\n",
        "# # Fit the model\n",
        "# grid_search.fit(X_train, y_train)\n"
      ],
      "metadata": {
        "id": "pqQgbHb8f-9D"
      },
      "execution_count": 43,
      "outputs": []
    },
    {
      "cell_type": "code",
      "source": [
        "# # Initialize the Random Forest classifier\n",
        "# rf = RandomForestClassifier(random_state=42)\n",
        "\n",
        "# # Initialize GridSearchCV\n",
        "# grid_search = GridSearchCV(estimator=rf, param_grid=param_grid, cv=5, n_jobs=-1, verbose=2)\n",
        "\n",
        "# # Fit the model\n",
        "# grid_search.fit(X_train, Y_train)\n"
      ],
      "metadata": {
        "id": "HoZFOW0agbsX"
      },
      "execution_count": 44,
      "outputs": []
    },
    {
      "cell_type": "code",
      "source": [
        "# # Initialize the Random Forest classifier\n",
        "# rf = RandomForestClassifier(random_state=42)\n",
        "\n",
        "# # Initialize GridSearchCV\n",
        "# grid_search = GridSearchCV(estimator=rf, param_grid=param_grid, cv=5, n_jobs=-1, verbose=2)\n",
        "\n",
        "# # Fit the model\n",
        "# grid_search.fit(X_train, Y_train)\n"
      ],
      "metadata": {
        "id": "3Xn1c5bkgc8k"
      },
      "execution_count": 45,
      "outputs": []
    },
    {
      "cell_type": "markdown",
      "source": [
        "# Compare Results"
      ],
      "metadata": {
        "id": "A4k67gSfgAqj"
      }
    },
    {
      "cell_type": "code",
      "source": [
        "categories = ['P', 'MLP', 'SVM', 'RF', 'LR']\n",
        "values = [perceptron_accuracy, mlp_accuracy, svm_accuracy, RF_accuracy, LR_accuracy]\n",
        "\n",
        "# Create the bar graph\n",
        "plt.bar(categories, values)\n",
        "\n",
        "# Add labels and title\n",
        "plt.xlabel('Models')\n",
        "plt.ylabel('Accuracy')\n",
        "\n",
        "# Display the graph\n",
        "plt.show()\n"
      ],
      "metadata": {
        "colab": {
          "base_uri": "https://localhost:8080/",
          "height": 449
        },
        "id": "AQsd8vyZgCfN",
        "outputId": "a3def980-924d-457c-aeae-4ffeae402e2c"
      },
      "execution_count": 47,
      "outputs": [
        {
          "output_type": "display_data",
          "data": {
            "text/plain": [
              "<Figure size 640x480 with 1 Axes>"
            ],
            "image/png": "[encoded data removed]"
          },
          "metadata": {}
        }
      ]
    },
    {
      "cell_type": "markdown",
      "source": [
        "# Creating the predictions csv file"
      ],
      "metadata": {
        "id": "aHNLjUIXLX7g"
      }
    },
    {
      "cell_type": "markdown",
      "source": [
        "Class predictions for the test data. This must be in exactly the same format as the provided example file sample_valid_predictions.csv and must be named predictions.csv."
      ],
      "metadata": {
        "id": "AMTcFPJ56voD"
      }
    },
    {
      "cell_type": "code",
      "source": [
        "test_predictions = logistic_regression_model.predict(testing_predict)"
      ],
      "metadata": {
        "id": "5f2MZ4fwJV0Y"
      },
      "execution_count": 48,
      "outputs": []
    },
    {
      "cell_type": "code",
      "source": [
        "predictions_df = pd.DataFrame(test_predictions, columns=['prediction'])\n",
        "predictions_df.to_csv('predictions.csv', index=False)"
      ],
      "metadata": {
        "id": "IPI6_OKX6Sro"
      },
      "execution_count": 49,
      "outputs": []
    }
  ]
}